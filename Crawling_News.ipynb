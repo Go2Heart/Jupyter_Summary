{
 "cells": [
  {
   "cell_type": "code",
   "execution_count": 1,
   "metadata": {
    "collapsed": false,
    "jupyter": {
     "outputs_hidden": false
    },
    "pycharm": {
     "name": "#%%\n"
    }
   },
   "outputs": [],
   "source": [
    "import datetime\n",
    "\n",
    "import newspaper\n",
    "from newspaper import Article"
   ]
  },
  {
   "cell_type": "code",
   "execution_count": null,
   "metadata": {
    "collapsed": false,
    "jupyter": {
     "outputs_hidden": false
    },
    "pycharm": {
     "name": "#%%\n"
    }
   },
   "outputs": [],
   "source": []
  },
  {
   "cell_type": "code",
   "execution_count": 2,
   "metadata": {
    "collapsed": false,
    "jupyter": {
     "outputs_hidden": false
    },
    "pycharm": {
     "name": "#%%\n"
    }
   },
   "outputs": [],
   "source": [
    "url = 'http://www.chinadaily.com.cn/world'      \n",
    "cctv_paper = newspaper.build(url,language='en',memoize_articles = False)"
   ]
  },
  {
   "cell_type": "code",
   "execution_count": 3,
   "metadata": {
    "collapsed": false,
    "jupyter": {
     "outputs_hidden": false
    },
    "pycharm": {
     "name": "#%%\n"
    }
   },
   "outputs": [
    {
     "name": "stdout",
     "output_type": "stream",
     "text": [
      "http://www.chinadaily.com.cn\n",
      "https://www.chinadaily.com.cn\n",
      "http://watchthis.chinadaily.com.cn\n",
      "http://covid-19.chinadaily.com.cn\n",
      "https://watchthis.chinadaily.com.cn\n",
      "http://chinadaily.zhiye.com\n",
      "http://www.chinadaily.com.cn/index.html\n",
      "http://bbs.chinadaily.com.cn\n",
      "http://language.chinadaily.com.cn\n",
      "http://newspress.chinadaily.net.cn\n",
      "http://govt.chinadaily.com.cn\n",
      "https://language.chinadaily.com.cn\n",
      "http://epaper.chinadaily.com.cn\n",
      "https://bbs.chinadaily.com.cn\n",
      "http://cn.chinadaily.com.cn\n"
     ]
    }
   ],
   "source": [
    "for category in cctv_paper.category_urls(): # 提取源类别\n",
    "    print(category)"
   ]
  },
  {
   "cell_type": "code",
   "execution_count": 4,
   "metadata": {
    "collapsed": false,
    "jupyter": {
     "outputs_hidden": false
    },
    "pycharm": {
     "name": "#%%\n"
    }
   },
   "outputs": [
    {
     "name": "stdout",
     "output_type": "stream",
     "text": [
      "699\n"
     ]
    }
   ],
   "source": [
    "for article in cctv_paper.articles: # 查看新闻源下面的所有新闻链接#\n",
    "    len(cctv_paper.articles)\n",
    "print(len(cctv_paper.articles))"
   ]
  },
  {
   "cell_type": "code",
   "execution_count": null,
   "metadata": {
    "collapsed": false,
    "jupyter": {
     "outputs_hidden": false
    },
    "pycharm": {
     "name": "#%%\n"
    }
   },
   "outputs": [
    {
     "name": "stdout",
     "output_type": "stream",
     "text": [
      "已爬取 1 条\n",
      "已爬取 2 条\n",
      "已爬取 3 条\n",
      "已爬取 4 条\n",
      "已爬取 5 条\n",
      "已爬取 6 条\n",
      "已爬取 7 条\n",
      "已爬取 8 条\n",
      "已爬取 9 条\n",
      "已爬取 10 条\n",
      "已爬取 11 条\n",
      "已爬取 12 条\n",
      "已爬取 13 条\n",
      "已爬取 14 条\n",
      "已爬取 15 条\n",
      "已爬取 16 条\n",
      "已爬取 17 条\n",
      "已爬取 18 条\n",
      "已爬取 19 条\n",
      "已爬取 20 条\n",
      "已爬取 21 条\n",
      "已爬取 22 条\n",
      "已爬取 23 条\n",
      "已爬取 24 条\n",
      "已爬取 25 条\n"
     ]
    }
   ],
   "source": [
    "import pandas as pd         # 导入pandas库\n",
    "news_title = []\n",
    "news_text = []\n",
    "news_authors=[]\n",
    "news_keywords=[]\n",
    "news_publish_date=[]\n",
    "a=0\n",
    "\n",
    "news = cctv_paper.articles\n",
    "for i in range(len(news)):    # 以新闻链接的长度为循环次数\n",
    "    paper = news[i]\n",
    "    try :\n",
    "        paper.download()\n",
    "        paper.parse()\n",
    "        news_title.append(paper.title)     # 将新闻题目以列表形式逐一储存\n",
    "        news_text.append(paper.text)       # 将新闻正文以列表形式逐一储存\n",
    "        #news_authors.append(paper.authors)\n",
    "        #news_keywords.append(paper.keywords)\n",
    "        #news_publish_date.append(paper.publish_date)\n",
    "        a=a+1\n",
    "        print('已爬取',str(a),'条')\n",
    "    except:\n",
    "        news_title.append('NULL')          # 如果无法访问，以NULL替代\n",
    "        news_text.append('NULL')\n",
    "        news_authors.append('NULL')\n",
    "        news_keywords.append('NULL')\n",
    "        news_publish_date.append('NULL')\n",
    "        continue\n",
    "dic = {'Summary':news_title,'Text':news_text}\n",
    "data = pd.DataFrame(dic)\n",
    "print(dic)\n",
    "data.to_csv('results1.csv')"
   ]
  },
  {
   "cell_type": "code",
   "execution_count": null,
   "metadata": {},
   "outputs": [],
   "source": []
  }
 ],
 "metadata": {
  "kernelspec": {
   "display_name": "Python 3",
   "language": "python",
   "name": "python3"
  },
  "language_info": {
   "codemirror_mode": {
    "name": "ipython",
    "version": 3
   },
   "file_extension": ".py",
   "mimetype": "text/x-python",
   "name": "python",
   "nbconvert_exporter": "python",
   "pygments_lexer": "ipython3",
   "version": "3.6.8"
  }
 },
 "nbformat": 4,
 "nbformat_minor": 4
}
